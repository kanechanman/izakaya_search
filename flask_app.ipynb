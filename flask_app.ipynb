{
 "cells": [
  {
   "cell_type": "code",
   "execution_count": 1,
   "id": "477c309c-75bc-4ff8-bf53-71e1ae97fd54",
   "metadata": {},
   "outputs": [],
   "source": [
    "# libraryをimport\n",
    "import json\n",
    "import requests\n",
    "import urllib.parse\n",
    "import pandas as pd"
   ]
  },
  {
   "cell_type": "code",
   "execution_count": 2,
   "id": "37f4da53-1abb-4237-80e5-03b2c425f8f4",
   "metadata": {},
   "outputs": [],
   "source": [
    "def RailAPI(station, pref):\n",
    "    station_url =urllib.parse.quote(station)\n",
    "    pref_url =urllib.parse.quote(pref)\n",
    "    api='http://express.heartrails.com/api/json?method=getStations&name={station_name}&prefecture={pref_name}'\n",
    "    url=api.format(station_name=station_url, pref_name=pref_url)\n",
    "    response=requests.get(url)\n",
    "    result_list = json.loads(response.text)['response']['station']\n",
    "    lng=result_list[0]['x']\n",
    "    lat=result_list[0]['y']\n",
    "    return lat, lng"
   ]
  },
  {
   "cell_type": "code",
   "execution_count": 3,
   "id": "afd6ceb1-b723-471c-95d6-a47e3e51d320",
   "metadata": {},
   "outputs": [],
   "source": [
    "def HotpepperAPI(lat, lng):\n",
    "    api_key=\"42a14be89ba51a23\" #自身で取得したAPI keyを入力\n",
    "    api = \"http://webservice.recruit.co.jp/hotpepper/gourmet/v1/?\" \\\n",
    "            \"key={key}&lat={lat}&lng={lng}&free_drink=1&private_room=1&course=1range=2&count=100&order=1&format=json\"\n",
    "    url=api.format(key=api_key,lat=lat_st, lng=lng_st)\n",
    "    response = requests.get(url)\n",
    "    result_list = json.loads(response.text)['results']['shop']\n",
    "    shop_datas=[]\n",
    "    for shop_data in result_list:\n",
    "        shop_datas.append([shop_data[\"name\"],shop_data[\"address\"],shop_data[\"urls\"]['pc'], shop_data[\"budget\"]['average'], 'Hotpepper'])\n",
    "    return shop_datas"
   ]
  },
  {
   "cell_type": "code",
   "execution_count": 4,
   "id": "a02b4689-b2ae-45a1-8861-d57b1147726d",
   "metadata": {},
   "outputs": [],
   "source": [
    "station ='名古屋'\n",
    "pref='愛知県'"
   ]
  },
  {
   "cell_type": "code",
   "execution_count": 17,
   "id": "b51b895b-15f7-459f-9d54-8e3b9e9cdbaa",
   "metadata": {},
   "outputs": [],
   "source": [
    "station_url =urllib.parse.quote(station)\n",
    "pref_url =urllib.parse.quote(pref)\n",
    "api='http://express.heartrails.com/api/json?method=getStations&name={station_name}&prefecture={pref_name}'\n",
    "url=api.format(station_name=station_url, pref_name=pref_url)\n",
    "response=requests.get(url)\n",
    "result_list = json.loads(response.text)['response']['station']\n",
    "lng=result_list[0]['x']\n",
    "lat=result_list[0]['y']"
   ]
  },
  {
   "cell_type": "code",
   "execution_count": 19,
   "id": "34ceb8af-a243-4ea2-bcef-6911dc7390e2",
   "metadata": {},
   "outputs": [
    {
     "data": {
      "text/plain": [
       "[{'name': '名古屋',\n",
       "  'prefecture': '愛知県',\n",
       "  'line': 'JR中央本線',\n",
       "  'x': 136.881637,\n",
       "  'y': 35.170694,\n",
       "  'postal': '4510045',\n",
       "  'prev': '金山',\n",
       "  'next': None},\n",
       " {'name': '名古屋',\n",
       "  'prefecture': '愛知県',\n",
       "  'line': 'JR東海道本線',\n",
       "  'x': 136.881637,\n",
       "  'y': 35.170694,\n",
       "  'postal': '4510045',\n",
       "  'prev': '尾頭橋',\n",
       "  'next': '枇杷島'},\n",
       " {'name': '名古屋',\n",
       "  'prefecture': '愛知県',\n",
       "  'line': 'JR関西本線',\n",
       "  'x': 136.881637,\n",
       "  'y': 35.170694,\n",
       "  'postal': '4510045',\n",
       "  'prev': None,\n",
       "  'next': '八田'},\n",
       " {'name': '名古屋',\n",
       "  'prefecture': '愛知県',\n",
       "  'line': 'あおなみ線',\n",
       "  'x': 136.882417,\n",
       "  'y': 35.168733,\n",
       "  'postal': '4510045',\n",
       "  'prev': None,\n",
       "  'next': 'ささしまライブ'},\n",
       " {'name': '名古屋',\n",
       "  'prefecture': '愛知県',\n",
       "  'line': '名古屋市東山線',\n",
       "  'x': 136.883925,\n",
       "  'y': 35.171252,\n",
       "  'postal': '4500002',\n",
       "  'prev': '亀島',\n",
       "  'next': '伏見'},\n",
       " {'name': '名古屋',\n",
       "  'prefecture': '愛知県',\n",
       "  'line': '名古屋市桜通線',\n",
       "  'x': 136.882546,\n",
       "  'y': 35.170761,\n",
       "  'postal': '4500002',\n",
       "  'prev': '太閤通',\n",
       "  'next': '国際センター'},\n",
       " {'name': '名古屋',\n",
       "  'prefecture': '愛知県',\n",
       "  'line': '東海道新幹線',\n",
       "  'x': 136.881637,\n",
       "  'y': 35.170694,\n",
       "  'postal': '4500002',\n",
       "  'prev': '三河安城',\n",
       "  'next': '岐阜羽島'}]"
      ]
     },
     "execution_count": 19,
     "metadata": {},
     "output_type": "execute_result"
    }
   ],
   "source": [
    "json.loads(response.text)[\"response\"][\"station\"]"
   ]
  },
  {
   "cell_type": "code",
   "execution_count": 5,
   "id": "c9caf190-69ce-4628-b889-eed61319c93d",
   "metadata": {},
   "outputs": [],
   "source": [
    "lat_st, lng_st =RailAPI(station, pref)\n",
    "columns = ['name','address', 'url', 'budget', 'source']\n",
    "HP_data =pd.DataFrame(HotpepperAPI(lat_st, lng_st), columns=columns)"
   ]
  },
  {
   "cell_type": "code",
   "execution_count": 6,
   "id": "2d6bfdf0-37c2-4a65-817f-8c9d6696ef9b",
   "metadata": {},
   "outputs": [],
   "source": [
    "import random"
   ]
  },
  {
   "cell_type": "code",
   "execution_count": 24,
   "id": "dfe61d3c-5eda-4b27-83b2-49c7fa5bc6de",
   "metadata": {},
   "outputs": [],
   "source": [
    "lat_st, lng_st =RailAPI(station, pref)\n",
    "api_key=\"42a14be89ba51a23\" #自身で取得したAPI keyを入力\n",
    "api = \"http://webservice.recruit.co.jp/hotpepper/gourmet/v1/?key={key}&lat={lat}&lng={lng}&free_drink=1&private_room=1&course=1range=2&count=100&order=1&format=json\"\n",
    "url=api.format(key=api_key,lat=lat_st, lng=lng_st)\n",
    "response = requests.get(url)\n",
    "result_list = json.loads(response.text)['results']['shop']\n",
    "shop_datas=[]\n",
    "for shop_data in result_list:\n",
    "    shop_datas.append([shop_data[\"name\"],shop_data[\"address\"],shop_data[\"urls\"]['pc'],shop_data[\"free_drink\"], shop_data[\"budget\"]['average'],shop_data[\"open\"], 'Hotpepper'])\n",
    "columns = ['name','address', 'url', \"free-drink\",'budget', \"open-day\", 'source']\n",
    "random_shoplist = random.sample(shop_datas, 3)\n",
    "#HP_data = pd.DataFrame(random_shoplist[0], columns=columns)\n",
    "#print(HP_data)"
   ]
  },
  {
   "cell_type": "code",
   "execution_count": 25,
   "id": "fecf8090-cb01-4675-a0e3-ccb09774f2c2",
   "metadata": {},
   "outputs": [
    {
     "data": {
      "text/plain": [
       "[['半兵ヱ 名古屋駅舎東口 大名古屋ビルヂング裏通り店',\n",
       "  '愛知県名古屋市中村区名駅３丁目15-8\\u3000名駅グルメプラザ４Ｆ',\n",
       "  'https://www.hotpepper.jp/strJ000762007/?vos=nhppalsa000016',\n",
       "  'あり',\n",
       "  '1800円',\n",
       "  '月～木、日、祝日: 17:00～23:00金、土、祝前日: 17:00～23:30',\n",
       "  'Hotpepper'],\n",
       " ['亜熱帯 名駅西椿店',\n",
       "  '愛知県名古屋市中村区椿町5-2',\n",
       "  'https://www.hotpepper.jp/strJ001036758/?vos=nhppalsa000016',\n",
       "  'あり ：ドリンクバー完備',\n",
       "  '※パック料金をご確認下さい／会員制(入会費100円)',\n",
       "  '月: 07:00～翌7:00火～日、祝日、祝前日: 07:00～翌7:00 （料理L.O. 翌7:00 ドリンクL.O. 翌7:00）',\n",
       "  'Hotpepper'],\n",
       " ['箱屋 名古屋駅前店',\n",
       "  '愛知県名古屋市中村区名駅２-36-8 3F',\n",
       "  'https://www.hotpepper.jp/strJ001217353/?vos=nhppalsa000016',\n",
       "  'あり ：飲み放題の用意ございます',\n",
       "  '3500円※お得な2軒目コースもご用意しております♪',\n",
       "  '月～木、日、祝日: 17:00～翌0:00 （料理L.O. 23:00 ドリンクL.O. 23:30）金、土、祝前日: 17:00～翌1:00 （料理L.O. 翌0:00 ドリンクL.O. 翌0:30）',\n",
       "  'Hotpepper']]"
      ]
     },
     "execution_count": 25,
     "metadata": {},
     "output_type": "execute_result"
    }
   ],
   "source": [
    "random_shoplist"
   ]
  },
  {
   "cell_type": "code",
   "execution_count": 13,
   "id": "0edd19d4-b560-43f6-946a-8892dc768959",
   "metadata": {},
   "outputs": [],
   "source": [
    "columns = ['name','address', 'url', \"free-drink\",'budget', \"open-day\", 'source']\n",
    "HP_data = pd.DataFrame(shop_datas, columns=columns)"
   ]
  },
  {
   "cell_type": "code",
   "execution_count": 22,
   "id": "afd8bf37-88a0-4259-83f4-5da3d3978681",
   "metadata": {},
   "outputs": [
    {
     "data": {
      "text/plain": [
       "'八かく庵 名古屋セントラルタワーズ店'"
      ]
     },
     "execution_count": 22,
     "metadata": {},
     "output_type": "execute_result"
    }
   ],
   "source": [
    "HP_data[\"name\"]"
   ]
  },
  {
   "cell_type": "code",
   "execution_count": null,
   "id": "91a677d7-d293-47e1-bc03-0ac304d26ceb",
   "metadata": {},
   "outputs": [],
   "source": []
  },
  {
   "cell_type": "code",
   "execution_count": 6,
   "id": "da4132c8-d384-4d2a-bd22-20f72786ba71",
   "metadata": {},
   "outputs": [
    {
     "data": {
      "text/plain": [
       "{'access': 'JR名古屋駅新幹線口すぐ。太閤通り口ロータリー隣接。駅から徒歩10秒。MITANIビル5階',\n",
       " 'address': '愛知県名古屋市中村区椿町15-2 ミタニビル5F',\n",
       " 'band': '不可',\n",
       " 'barrier_free': 'なし ：お手伝いが必要な際はスタッフへお声がけください。',\n",
       " 'budget': {'average': '3000円', 'code': 'B003', 'name': '3001～4000円'},\n",
       " 'budget_memo': 'お通し代＆チャージ料550円（税込み）',\n",
       " 'capacity': 177,\n",
       " 'card': '利用可',\n",
       " 'catch': '【予約特典】当日予約もOK 【予約特典】当日利用もOK',\n",
       " 'charter': '貸切可 ：徹底した衛生管理のもと営業しております。不明点等ございましたら気軽に店舗までお問い合わせください。',\n",
       " 'child': 'お子様連れ歓迎 ：離乳食持ち込み・ベビーカー入店OK。お子様メニューやお子様用食器もご用意いたします。',\n",
       " 'close': 'なし',\n",
       " 'coupon_urls': {'pc': 'https://www.hotpepper.jp/strJ000729743/map/?vos=nhppalsa000016',\n",
       "  'sp': 'https://www.hotpepper.jp/strJ000729743/scoupon/?vos=nhppalsa000016'},\n",
       " 'course': 'あり',\n",
       " 'english': 'あり',\n",
       " 'free_drink': 'あり ：＜コース＞2時間飲み放題付3,200円～＜単品＞2時間1650円※クーポン利用価格',\n",
       " 'free_food': 'なし ：食べ放題コースはございません',\n",
       " 'genre': {'catch': '【新幹線口から10秒】個室完備の海鮮居酒屋', 'code': 'G001', 'name': '居酒屋'},\n",
       " 'horigotatsu': 'あり ：足を伸ばしてゆったり過ごせる掘りごたつ席をご用意しております。',\n",
       " 'id': 'J000729743',\n",
       " 'karaoke': 'なし',\n",
       " 'ktai_coupon': 0,\n",
       " 'large_area': {'code': 'Z033', 'name': '愛知'},\n",
       " 'large_service_area': {'code': 'SS30', 'name': '東海'},\n",
       " 'lat': 35.1692610847,\n",
       " 'lng': 136.8811809294,\n",
       " 'logo_image': 'https://imgfp.hotp.jp/IMGH/26/78/P040922678/P040922678_69.jpg',\n",
       " 'lunch': 'なし',\n",
       " 'middle_area': {'code': 'Y200', 'name': '名古屋（名古屋駅/西区/中村区）'},\n",
       " 'midnight': '営業している',\n",
       " 'mobile_access': 'JR名古屋駅新幹線口｡ﾛｰﾀﾘｰ隣接｡MITANIﾋﾞﾙ5階',\n",
       " 'name': 'まぐろ居酒屋 さかなや道場 名古屋駅太閤通口店',\n",
       " 'name_kana': 'こしつかんび\\u3000まぐろいざかや\\u3000さかなやどうじょう\\u3000なごやえきたいこうどうりぐちてん',\n",
       " 'non_smoking': '全面禁煙',\n",
       " 'open': '月～木、日、祝日: 17:00～翌0:00 （料理L.O. 23:30 ドリンクL.O. 23:30）金、土、祝前日: 17:00～翌1:00 （料理L.O. 翌0:30 ドリンクL.O. 翌0:30）',\n",
       " 'other_memo': '※不明点等、お気軽に店舗へご相談下さい',\n",
       " 'parking': 'なし ：お近くのコインパーキングをご利用ください。',\n",
       " 'party_capacity': 75,\n",
       " 'pet': '不可',\n",
       " 'photo': {'mobile': {'l': 'https://imgfp.hotp.jp/IMGH/13/80/P040581380/P040581380_168.jpg',\n",
       "   's': 'https://imgfp.hotp.jp/IMGH/13/80/P040581380/P040581380_100.jpg'},\n",
       "  'pc': {'l': 'https://imgfp.hotp.jp/IMGH/13/80/P040581380/P040581380_238.jpg',\n",
       "   'm': 'https://imgfp.hotp.jp/IMGH/13/80/P040581380/P040581380_168.jpg',\n",
       "   's': 'https://imgfp.hotp.jp/IMGH/13/80/P040581380/P040581380_58_s.jpg'}},\n",
       " 'private_room': 'あり ：少人数利用歓迎！掘りごたつ・テーブルタイプを完備しています。',\n",
       " 'service_area': {'code': 'SA33', 'name': '愛知'},\n",
       " 'shop_detail_memo': 'PayPay決済可能！ご予算に応じてプラン等ご用意させて頂きますので、お問い合わせ下さい。',\n",
       " 'show': 'なし',\n",
       " 'small_area': {'code': 'X450', 'name': '名古屋駅'},\n",
       " 'station_name': '名古屋',\n",
       " 'sub_genre': {'code': 'G004', 'name': '和食'},\n",
       " 'tatami': 'なし ：テーブル席、掘りごたつ席をご用意しております。',\n",
       " 'tv': 'あり',\n",
       " 'urls': {'pc': 'https://www.hotpepper.jp/strJ000729743/?vos=nhppalsa000016'},\n",
       " 'wedding': '各種ご宴会承っております。ご不明点がありましたらお気軽にお問い合わせください。',\n",
       " 'wifi': 'あり'}"
      ]
     },
     "execution_count": 6,
     "metadata": {},
     "output_type": "execute_result"
    }
   ],
   "source": [
    "shop_data"
   ]
  },
  {
   "cell_type": "code",
   "execution_count": null,
   "id": "026a524c-cb09-4b59-aba7-ac6dbcb2573a",
   "metadata": {},
   "outputs": [],
   "source": []
  },
  {
   "cell_type": "code",
   "execution_count": 1,
   "id": "7a66b73f-2787-4596-8f76-fe87eb0acb0e",
   "metadata": {},
   "outputs": [
    {
     "ename": "SyntaxError",
     "evalue": "invalid syntax (373481282.py, line 1)",
     "output_type": "error",
     "traceback": [
      "\u001b[1;36m  Input \u001b[1;32mIn [1]\u001b[1;36m\u001b[0m\n\u001b[1;33m    navigator.geolocation.getCurrentPosition(pos => {\u001b[0m\n\u001b[1;37m                                                  ^\u001b[0m\n\u001b[1;31mSyntaxError\u001b[0m\u001b[1;31m:\u001b[0m invalid syntax\n"
     ]
    }
   ],
   "source": [
    "navigator.geolocation.getCurrentPosition(pos => {\n",
    "  console.dir(pos.coords.latitude);\n",
    "  console.dir(pos.coords.longitude);\n",
    "})"
   ]
  },
  {
   "cell_type": "code",
   "execution_count": null,
   "id": "ec0d74f3-8aba-4c34-8cde-dfb6b7a7f419",
   "metadata": {},
   "outputs": [],
   "source": []
  },
  {
   "cell_type": "code",
   "execution_count": null,
   "id": "384a8ed7-c2a8-4ffa-a714-8893a0da941e",
   "metadata": {},
   "outputs": [],
   "source": []
  },
  {
   "cell_type": "code",
   "execution_count": null,
   "id": "8c1fc4cb-208e-44ae-9785-79c97e53ea88",
   "metadata": {},
   "outputs": [],
   "source": []
  },
  {
   "cell_type": "code",
   "execution_count": null,
   "id": "4a812803-c644-41ab-ac2b-f7a1f0372c43",
   "metadata": {},
   "outputs": [],
   "source": []
  },
  {
   "cell_type": "code",
   "execution_count": null,
   "id": "c3a42fc0-168a-4749-8147-c61ce3fc02b1",
   "metadata": {},
   "outputs": [],
   "source": []
  }
 ],
 "metadata": {
  "kernelspec": {
   "display_name": "Python 3 (ipykernel)",
   "language": "python",
   "name": "python3"
  },
  "language_info": {
   "codemirror_mode": {
    "name": "ipython",
    "version": 3
   },
   "file_extension": ".py",
   "mimetype": "text/x-python",
   "name": "python",
   "nbconvert_exporter": "python",
   "pygments_lexer": "ipython3",
   "version": "3.9.12"
  },
  "vscode": {
   "interpreter": {
    "hash": "46cbf47d85ec2cb0b47b72538bb252b13b33313344e2ed2d38522ba2c2663df9"
   }
  }
 },
 "nbformat": 4,
 "nbformat_minor": 5
}
